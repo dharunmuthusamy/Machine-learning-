{
  "cells": [
    {
      "cell_type": "code",
      "source": [
        "from google.colab import drive\n",
        "drive.mount('/content/drive')\n"
      ],
      "metadata": {
        "colab": {
          "base_uri": "https://localhost:8080/"
        },
        "id": "BzNqoPplxIRY",
        "outputId": "6365d71b-406c-42c6-bf6b-c996bdb8b68d"
      },
      "id": "BzNqoPplxIRY",
      "execution_count": 1,
      "outputs": [
        {
          "output_type": "stream",
          "name": "stdout",
          "text": [
            "Mounted at /content/drive\n"
          ]
        }
      ]
    },
    {
      "cell_type": "code",
      "execution_count": 2,
      "id": "1cf0c55c-9a58-4270-a64c-df6448364114",
      "metadata": {
        "id": "1cf0c55c-9a58-4270-a64c-df6448364114"
      },
      "outputs": [],
      "source": [
        "import pandas as pd\n",
        "import numpy as np\n",
        "import difflib\n",
        "from sklearn.feature_extraction.text import TfidfVectorizer\n",
        "from sklearn.metrics.pairwise import cosine_similarity"
      ]
    },
    {
      "cell_type": "code",
      "execution_count": 6,
      "id": "48f7d23b-9a04-4c9c-90e9-2f429c828630",
      "metadata": {
        "id": "48f7d23b-9a04-4c9c-90e9-2f429c828630"
      },
      "outputs": [],
      "source": [
        "df = pd.read_csv('/content/movies.csv')"
      ]
    },
    {
      "cell_type": "code",
      "execution_count": 13,
      "id": "a996a341-ced8-4907-8e67-46f810ef7a31",
      "metadata": {
        "colab": {
          "base_uri": "https://localhost:8080/"
        },
        "id": "a996a341-ced8-4907-8e67-46f810ef7a31",
        "outputId": "c8b2b24f-9a83-4871-d73e-820d1a357773"
      },
      "outputs": [
        {
          "output_type": "execute_result",
          "data": {
            "text/plain": [
              "['index',\n",
              " 'budget',\n",
              " 'genres',\n",
              " 'homepage',\n",
              " 'id',\n",
              " 'keywords',\n",
              " 'original_language',\n",
              " 'original_title',\n",
              " 'overview',\n",
              " 'popularity',\n",
              " 'production_companies',\n",
              " 'production_countries',\n",
              " 'release_date',\n",
              " 'revenue',\n",
              " 'runtime',\n",
              " 'spoken_languages',\n",
              " 'status',\n",
              " 'tagline',\n",
              " 'title',\n",
              " 'vote_average',\n",
              " 'vote_count',\n",
              " 'cast',\n",
              " 'crew',\n",
              " 'director']"
            ]
          },
          "metadata": {},
          "execution_count": 13
        }
      ],
      "source": [
        "columns_list = df.columns.to_list()\n",
        "columns_list"
      ]
    },
    {
      "cell_type": "code",
      "execution_count": 9,
      "id": "57d473b3-9d9c-427f-a402-ddef886b0dc2",
      "metadata": {
        "colab": {
          "base_uri": "https://localhost:8080/"
        },
        "id": "57d473b3-9d9c-427f-a402-ddef886b0dc2",
        "outputId": "fde220c3-59b2-4f11-d03f-3d0d0a478b4f"
      },
      "outputs": [
        {
          "output_type": "execute_result",
          "data": {
            "text/plain": [
              "(4803, 24)"
            ]
          },
          "metadata": {},
          "execution_count": 9
        }
      ],
      "source": [
        "df.shape"
      ]
    },
    {
      "cell_type": "code",
      "execution_count": 11,
      "id": "be06561c-fb70-4d2a-803a-d082d5be60fc",
      "metadata": {
        "colab": {
          "base_uri": "https://localhost:8080/"
        },
        "id": "be06561c-fb70-4d2a-803a-d082d5be60fc",
        "outputId": "bdf0ac11-00cc-4038-f85a-3f4902055f56"
      },
      "outputs": [
        {
          "output_type": "execute_result",
          "data": {
            "text/plain": [
              "['genres',\n",
              " 'keywords',\n",
              " 'tagline',\n",
              " 'cast',\n",
              " 'director',\n",
              " 'original_language',\n",
              " 'original_title',\n",
              " 'overview',\n",
              " 'spoken_languages']"
            ]
          },
          "metadata": {},
          "execution_count": 11
        }
      ],
      "source": [
        "selected_features = ['genres','keywords','tagline','cast','director','original_language','original_title',\n",
        " 'overview','spoken_languages']\n",
        "selected_features"
      ]
    },
    {
      "cell_type": "code",
      "source": [
        "movie_df = df[selected_features]"
      ],
      "metadata": {
        "id": "La_rtrzbx7kB"
      },
      "id": "La_rtrzbx7kB",
      "execution_count": 14,
      "outputs": []
    },
    {
      "cell_type": "code",
      "execution_count": 15,
      "id": "04b3610e-9e3a-468e-9e04-9b28a20ec2d4",
      "metadata": {
        "colab": {
          "base_uri": "https://localhost:8080/"
        },
        "id": "04b3610e-9e3a-468e-9e04-9b28a20ec2d4",
        "outputId": "edd259c7-a07c-4884-8d3d-bff4565e637e"
      },
      "outputs": [
        {
          "output_type": "stream",
          "name": "stderr",
          "text": [
            "<ipython-input-15-bd0673f7b1d4>:2: SettingWithCopyWarning: \n",
            "A value is trying to be set on a copy of a slice from a DataFrame.\n",
            "Try using .loc[row_indexer,col_indexer] = value instead\n",
            "\n",
            "See the caveats in the documentation: https://pandas.pydata.org/pandas-docs/stable/user_guide/indexing.html#returning-a-view-versus-a-copy\n",
            "  movie_df[feature] = movie_df[feature].fillna('')\n"
          ]
        }
      ],
      "source": [
        "for feature in selected_features:\n",
        "    movie_df[feature] = movie_df[feature].fillna('')"
      ]
    },
    {
      "cell_type": "code",
      "execution_count": 16,
      "id": "b5b43436-0975-4de9-adf7-a0a07da17ef3",
      "metadata": {
        "colab": {
          "base_uri": "https://localhost:8080/",
          "height": 366
        },
        "id": "b5b43436-0975-4de9-adf7-a0a07da17ef3",
        "outputId": "493bb88c-c964-4069-96c0-334db77f009d"
      },
      "outputs": [
        {
          "output_type": "execute_result",
          "data": {
            "text/plain": [
              "genres               0\n",
              "keywords             0\n",
              "tagline              0\n",
              "cast                 0\n",
              "director             0\n",
              "original_language    0\n",
              "original_title       0\n",
              "overview             0\n",
              "spoken_languages     0\n",
              "dtype: int64"
            ],
            "text/html": [
              "<div>\n",
              "<style scoped>\n",
              "    .dataframe tbody tr th:only-of-type {\n",
              "        vertical-align: middle;\n",
              "    }\n",
              "\n",
              "    .dataframe tbody tr th {\n",
              "        vertical-align: top;\n",
              "    }\n",
              "\n",
              "    .dataframe thead th {\n",
              "        text-align: right;\n",
              "    }\n",
              "</style>\n",
              "<table border=\"1\" class=\"dataframe\">\n",
              "  <thead>\n",
              "    <tr style=\"text-align: right;\">\n",
              "      <th></th>\n",
              "      <th>0</th>\n",
              "    </tr>\n",
              "  </thead>\n",
              "  <tbody>\n",
              "    <tr>\n",
              "      <th>genres</th>\n",
              "      <td>0</td>\n",
              "    </tr>\n",
              "    <tr>\n",
              "      <th>keywords</th>\n",
              "      <td>0</td>\n",
              "    </tr>\n",
              "    <tr>\n",
              "      <th>tagline</th>\n",
              "      <td>0</td>\n",
              "    </tr>\n",
              "    <tr>\n",
              "      <th>cast</th>\n",
              "      <td>0</td>\n",
              "    </tr>\n",
              "    <tr>\n",
              "      <th>director</th>\n",
              "      <td>0</td>\n",
              "    </tr>\n",
              "    <tr>\n",
              "      <th>original_language</th>\n",
              "      <td>0</td>\n",
              "    </tr>\n",
              "    <tr>\n",
              "      <th>original_title</th>\n",
              "      <td>0</td>\n",
              "    </tr>\n",
              "    <tr>\n",
              "      <th>overview</th>\n",
              "      <td>0</td>\n",
              "    </tr>\n",
              "    <tr>\n",
              "      <th>spoken_languages</th>\n",
              "      <td>0</td>\n",
              "    </tr>\n",
              "  </tbody>\n",
              "</table>\n",
              "</div><br><label><b>dtype:</b> int64</label>"
            ]
          },
          "metadata": {},
          "execution_count": 16
        }
      ],
      "source": [
        "movie_df.isna().sum()"
      ]
    },
    {
      "cell_type": "code",
      "execution_count": 18,
      "id": "def07e1e-0e35-421d-9305-ac171f4512f6",
      "metadata": {
        "colab": {
          "base_uri": "https://localhost:8080/",
          "height": 458
        },
        "id": "def07e1e-0e35-421d-9305-ac171f4512f6",
        "outputId": "359393d4-ff12-46bb-c9e7-b117d18ae545"
      },
      "outputs": [
        {
          "output_type": "execute_result",
          "data": {
            "text/plain": [
              "0       Action Adventure Fantasy Science Fiction cultu...\n",
              "1       Adventure Fantasy Action ocean drug abuse exot...\n",
              "2       Action Adventure Crime spy based on novel secr...\n",
              "3       Action Crime Drama Thriller dc comics crime fi...\n",
              "4       Action Adventure Science Fiction based on nove...\n",
              "                              ...                        \n",
              "4798    Action Crime Thriller united states\\u2013mexic...\n",
              "4799    Comedy Romance  A newlywed couple's honeymoon ...\n",
              "4800    Comedy Drama Romance TV Movie date love at fir...\n",
              "4801      A New Yorker in Shanghai Daniel Henney Eliza...\n",
              "4802    Documentary obsession camcorder crush dream gi...\n",
              "Length: 4803, dtype: object"
            ],
            "text/html": [
              "<div>\n",
              "<style scoped>\n",
              "    .dataframe tbody tr th:only-of-type {\n",
              "        vertical-align: middle;\n",
              "    }\n",
              "\n",
              "    .dataframe tbody tr th {\n",
              "        vertical-align: top;\n",
              "    }\n",
              "\n",
              "    .dataframe thead th {\n",
              "        text-align: right;\n",
              "    }\n",
              "</style>\n",
              "<table border=\"1\" class=\"dataframe\">\n",
              "  <thead>\n",
              "    <tr style=\"text-align: right;\">\n",
              "      <th></th>\n",
              "      <th>0</th>\n",
              "    </tr>\n",
              "  </thead>\n",
              "  <tbody>\n",
              "    <tr>\n",
              "      <th>0</th>\n",
              "      <td>Action Adventure Fantasy Science Fiction cultu...</td>\n",
              "    </tr>\n",
              "    <tr>\n",
              "      <th>1</th>\n",
              "      <td>Adventure Fantasy Action ocean drug abuse exot...</td>\n",
              "    </tr>\n",
              "    <tr>\n",
              "      <th>2</th>\n",
              "      <td>Action Adventure Crime spy based on novel secr...</td>\n",
              "    </tr>\n",
              "    <tr>\n",
              "      <th>3</th>\n",
              "      <td>Action Crime Drama Thriller dc comics crime fi...</td>\n",
              "    </tr>\n",
              "    <tr>\n",
              "      <th>4</th>\n",
              "      <td>Action Adventure Science Fiction based on nove...</td>\n",
              "    </tr>\n",
              "    <tr>\n",
              "      <th>...</th>\n",
              "      <td>...</td>\n",
              "    </tr>\n",
              "    <tr>\n",
              "      <th>4798</th>\n",
              "      <td>Action Crime Thriller united states\\u2013mexic...</td>\n",
              "    </tr>\n",
              "    <tr>\n",
              "      <th>4799</th>\n",
              "      <td>Comedy Romance  A newlywed couple's honeymoon ...</td>\n",
              "    </tr>\n",
              "    <tr>\n",
              "      <th>4800</th>\n",
              "      <td>Comedy Drama Romance TV Movie date love at fir...</td>\n",
              "    </tr>\n",
              "    <tr>\n",
              "      <th>4801</th>\n",
              "      <td>A New Yorker in Shanghai Daniel Henney Eliza...</td>\n",
              "    </tr>\n",
              "    <tr>\n",
              "      <th>4802</th>\n",
              "      <td>Documentary obsession camcorder crush dream gi...</td>\n",
              "    </tr>\n",
              "  </tbody>\n",
              "</table>\n",
              "<p>4803 rows × 1 columns</p>\n",
              "</div><br><label><b>dtype:</b> object</label>"
            ]
          },
          "metadata": {},
          "execution_count": 18
        }
      ],
      "source": [
        "combined_df = movie_df['genres']+' '+movie_df['keywords']+' '+movie_df['tagline']+' '+movie_df['cast']+' '+movie_df['director']+' '+movie_df['original_language']+' '+movie_df['original_title']+' '+movie_df['overview']\n",
        "combined_df"
      ]
    },
    {
      "cell_type": "code",
      "execution_count": 19,
      "id": "3c544646-1e6c-43fd-b0df-7a7b9c5bad23",
      "metadata": {
        "id": "3c544646-1e6c-43fd-b0df-7a7b9c5bad23"
      },
      "outputs": [],
      "source": [
        "vec= TfidfVectorizer()\n",
        "feature_vectors = vec.fit_transform(combined_df)"
      ]
    },
    {
      "cell_type": "code",
      "execution_count": 20,
      "id": "91a1f6fa-fc9c-441e-82db-6653c25b06bc",
      "metadata": {
        "id": "91a1f6fa-fc9c-441e-82db-6653c25b06bc"
      },
      "outputs": [],
      "source": [
        "similarity = cosine_similarity(feature_vectors)"
      ]
    },
    {
      "cell_type": "code",
      "execution_count": 21,
      "id": "fc5448fc-08a2-4446-9624-30f05bd81b11",
      "metadata": {
        "colab": {
          "base_uri": "https://localhost:8080/"
        },
        "id": "fc5448fc-08a2-4446-9624-30f05bd81b11",
        "outputId": "ede60a0d-f789-4bbf-bfef-79b151235eef"
      },
      "outputs": [
        {
          "output_type": "execute_result",
          "data": {
            "text/plain": [
              "(4803, 4803)"
            ]
          },
          "metadata": {},
          "execution_count": 21
        }
      ],
      "source": [
        "similarity.shape"
      ]
    },
    {
      "cell_type": "code",
      "execution_count": 22,
      "id": "8ae785bf-bba6-42c0-92aa-c15a058f5dfe",
      "metadata": {
        "id": "8ae785bf-bba6-42c0-92aa-c15a058f5dfe"
      },
      "outputs": [],
      "source": [
        "movies_list = df['title'].to_list()"
      ]
    },
    {
      "cell_type": "code",
      "execution_count": 23,
      "id": "8cf2005f-8817-4920-9fdb-e6b08e48980e",
      "metadata": {
        "colab": {
          "base_uri": "https://localhost:8080/"
        },
        "id": "8cf2005f-8817-4920-9fdb-e6b08e48980e",
        "outputId": "daf4e0b4-80dc-4690-c36b-b5fcd1c944ca"
      },
      "outputs": [
        {
          "output_type": "stream",
          "name": "stdout",
          "text": [
            "enter your favorite movie: iron man\n",
            "Movies suggested for you!\n",
            "1 . Iron Man\n",
            "2 . Iron Man 2\n",
            "3 . Iron Man 3\n",
            "4 . Avengers: Age of Ultron\n",
            "5 . Captain America: Civil War\n",
            "6 . The Avengers\n",
            "7 . X-Men\n",
            "8 . Ant-Man\n",
            "9 . X-Men: Apocalypse\n",
            "10 . Made\n",
            "11 . Guardians of the Galaxy\n",
            "12 . Super\n",
            "13 . Spider-Man 2\n",
            "14 . Mystery Men\n",
            "15 . X-Men: Days of Future Past\n",
            "16 . The Incredible Hulk\n",
            "17 . Mortdecai\n",
            "18 . The Devil's Tomb\n",
            "19 . X-Men: First Class\n",
            "20 . Captain America: The Winter Soldier\n",
            "21 . Two Lovers\n",
            "22 . X2\n",
            "23 . R.I.P.D.\n",
            "24 . Sliding Doors\n",
            "25 . Kick-Ass 2\n",
            "26 . G-Force\n",
            "27 . X-Men: The Last Stand\n",
            "28 . The Shaggy Dog\n",
            "29 . Sin City\n",
            "30 . Surf's Up\n"
          ]
        }
      ],
      "source": [
        "name = input(\"enter your favorite movie: \")\n",
        "find_close_match = difflib.get_close_matches(name ,movies_list)\n",
        "close_match = find_close_match[0]\n",
        "movie_idx = df[df.title == close_match]['index'].values[0]\n",
        "similarity_score = list(enumerate(similarity[movie_idx]))\n",
        "sort_similiar_movies = sorted(similarity_score,key = lambda x:x[1],reverse =True)\n",
        "print('Movies suggested for you!')\n",
        "i=1\n",
        "for movie in sort_similiar_movies:\n",
        "    index = movie[0]\n",
        "    suggested_movie = df[df.index==index]['title'].values[0]\n",
        "    if(i<=30):\n",
        "        print(i,'.',suggested_movie)\n",
        "        i+=1"
      ]
    }
  ],
  "metadata": {
    "kernelspec": {
      "display_name": "Python 3 (ipykernel)",
      "language": "python",
      "name": "python3"
    },
    "language_info": {
      "codemirror_mode": {
        "name": "ipython",
        "version": 3
      },
      "file_extension": ".py",
      "mimetype": "text/x-python",
      "name": "python",
      "nbconvert_exporter": "python",
      "pygments_lexer": "ipython3",
      "version": "3.13.1"
    },
    "colab": {
      "provenance": []
    }
  },
  "nbformat": 4,
  "nbformat_minor": 5
}